{
 "cells": [
  {
   "cell_type": "code",
   "execution_count": null,
   "metadata": {},
   "outputs": [],
   "source": [
    "import seaborn as sns \n",
    "planets = sns.load_dataset('planets')\n",
    "planets.head()"
   ]
  },
  {
   "cell_type": "code",
   "execution_count": null,
   "metadata": {},
   "outputs": [],
   "source": [
    "import seaborn as sns\n",
    "import numpy as np\n",
    "from scipy import stats\n",
    "\n",
    "planets = sns.load_dataset('planets').dropna()\n",
    "\n",
    "# Aggregations\n",
    "# Calculating the mean, median, and mode for 'distance' column\n",
    "distance_mean = planets['distance'].mean()\n",
    "distance_median = planets['distance'].median()\n",
    "distance_mode = stats.mode(planets['distance'])[0][0]\n",
    "print(\"Mean distance: \", distance_mean)\n",
    "print(\"Median distance: \", distance_median)\n",
    "print(\"Mode distance: \", distance_mode)\n",
    "\n",
    "# Use describe() method will output a table including the 25th, 50th and 75th percentile for each coloumn in the dataframe\n",
    "print(planets.describe())\n"
   ]
  },
  {
   "cell_type": "code",
   "execution_count": 12,
   "metadata": {},
   "outputs": [
    {
     "name": "stdout",
     "output_type": "stream",
     "text": [
      "method\n",
      "Radial Velocity    837.454878\n",
      "Transit              2.703390\n",
      "Name: orbital_period, dtype: float64\n",
      "method           decade\n",
      "Radial Velocity  1980        1\n",
      "                 1990       49\n",
      "                 2000      439\n",
      "                 2010      374\n",
      "Transit          2010        1\n",
      "Name: number, dtype: int64\n"
     ]
    }
   ],
   "source": [
    "# Group by: detection methods and calculate the mean orbital period for each group\n",
    "orbital_period_mean = planets.groupby('method')['orbital_period'].mean()\n",
    "print(orbital_period_mean)\n",
    "\n",
    "# Creating a new column indicating decade of discovery\n",
    "planets['decade'] = (planets['year'] // 10) * 10\n",
    "\n",
    "# Group by : to group data from method and decade and sum the number of planets\n",
    "planet_counts = planets.groupby(['method', 'decade'])['number'].sum()\n",
    "print(planet_counts)\n"
   ]
  }
 ],
 "metadata": {
  "kernelspec": {
   "display_name": "base",
   "language": "python",
   "name": "python3"
  },
  "language_info": {
   "codemirror_mode": {
    "name": "ipython",
    "version": 3
   },
   "file_extension": ".py",
   "mimetype": "text/x-python",
   "name": "python",
   "nbconvert_exporter": "python",
   "pygments_lexer": "ipython3",
   "version": "3.9.12"
  },
  "orig_nbformat": 4
 },
 "nbformat": 4,
 "nbformat_minor": 2
}
